{
 "cells": [
  {
   "cell_type": "markdown",
   "id": "aaf90a32",
   "metadata": {},
   "source": [
    "# Data Science Tools and Ecosystem"
   ]
  },
  {
   "cell_type": "markdown",
   "id": "9eac6f2f",
   "metadata": {},
   "source": [
    "### In this notebook, Data Science Tools and Ecosystem are summarized."
   ]
  },
  {
   "cell_type": "markdown",
   "id": "c2cf78b8",
   "metadata": {},
   "source": [
    "#### **Objectives**\n",
    " - List popular languages for Data Science\n",
    " - List commonly used libraries in Data Science\n",
    " - List some Data Science Tools\n",
    " - Examples"
   ]
  },
  {
   "cell_type": "markdown",
   "id": "15a900dd",
   "metadata": {},
   "source": [
    "#### Some of the popular languages that Data Scientists use are:\n",
    "    1. Python\n",
    "    2. R\n",
    "    3. SQL"
   ]
  },
  {
   "cell_type": "markdown",
   "id": "6b585c78",
   "metadata": {},
   "source": [
    "#### Some of the commonly used libraries used by Data Scientists include:\n",
    "    1. Pandas\n",
    "    2. Matplotlib\n",
    "    3. Numpy\n",
    "    4. Tensorflow\n",
    "    5. Scipy"
   ]
  },
  {
   "cell_type": "markdown",
   "id": "86bbd849",
   "metadata": {},
   "source": [
    "|Data Science Tools| \n",
    "|---|\n",
    "|Jupyter Lab/Notebook|\n",
    "|Spyder|\n",
    "|RStudio| "
   ]
  },
  {
   "cell_type": "markdown",
   "id": "76e8f32c",
   "metadata": {},
   "source": [
    "### Below are a few examples of evaluating arithmetic expressions in Python"
   ]
  },
  {
   "cell_type": "code",
   "execution_count": 2,
   "id": "0ea13c0b",
   "metadata": {},
   "outputs": [
    {
     "data": {
      "text/plain": [
       "17"
      ]
     },
     "execution_count": 2,
     "metadata": {},
     "output_type": "execute_result"
    }
   ],
   "source": [
    "#  This a simple arithmetic expression to mutiply then add integers:\n",
    "(3*4)+5"
   ]
  },
  {
   "cell_type": "code",
   "execution_count": 3,
   "id": "a8899956",
   "metadata": {},
   "outputs": [
    {
     "data": {
      "text/plain": [
       "3.3333333333333335"
      ]
     },
     "execution_count": 3,
     "metadata": {},
     "output_type": "execute_result"
    }
   ],
   "source": [
    "# This will convert 200 minutes to hours by diving by 60:\n",
    "200/60"
   ]
  },
  {
   "cell_type": "markdown",
   "id": "994099f8",
   "metadata": {},
   "source": [
    "## Author\n",
    "Ali Aslanli"
   ]
  }
 ],
 "metadata": {
  "kernelspec": {
   "display_name": "Python 3 (ipykernel)",
   "language": "python",
   "name": "python3"
  },
  "language_info": {
   "codemirror_mode": {
    "name": "ipython",
    "version": 3
   },
   "file_extension": ".py",
   "mimetype": "text/x-python",
   "name": "python",
   "nbconvert_exporter": "python",
   "pygments_lexer": "ipython3",
   "version": "3.11.5"
  }
 },
 "nbformat": 4,
 "nbformat_minor": 5
}
